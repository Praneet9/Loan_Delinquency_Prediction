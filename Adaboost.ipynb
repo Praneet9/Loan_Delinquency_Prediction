{
 "cells": [
  {
   "cell_type": "code",
   "execution_count": 1,
   "metadata": {
    "ExecuteTime": {
     "end_time": "2019-08-22T15:48:36.269952Z",
     "start_time": "2019-08-22T15:48:35.514786Z"
    }
   },
   "outputs": [],
   "source": [
    "import pandas as pd\n",
    "import numpy as np\n",
    "import matplotlib.pyplot as plt\n",
    "%matplotlib inline\n",
    "from sklearn.preprocessing import MinMaxScaler\n",
    "from sklearn.decomposition import PCA\n",
    "import seaborn as sns\n",
    "from sklearn.preprocessing import StandardScaler\n",
    "from sklearn.ensemble import RandomForestClassifier\n",
    "from sklearn.ensemble import AdaBoostClassifier"
   ]
  },
  {
   "cell_type": "code",
   "execution_count": 2,
   "metadata": {
    "ExecuteTime": {
     "end_time": "2019-08-22T15:48:37.553015Z",
     "start_time": "2019-08-22T15:48:37.116276Z"
    }
   },
   "outputs": [
    {
     "data": {
      "text/html": [
       "<div>\n",
       "<style scoped>\n",
       "    .dataframe tbody tr th:only-of-type {\n",
       "        vertical-align: middle;\n",
       "    }\n",
       "\n",
       "    .dataframe tbody tr th {\n",
       "        vertical-align: top;\n",
       "    }\n",
       "\n",
       "    .dataframe thead th {\n",
       "        text-align: right;\n",
       "    }\n",
       "</style>\n",
       "<table border=\"1\" class=\"dataframe\">\n",
       "  <thead>\n",
       "    <tr style=\"text-align: right;\">\n",
       "      <th></th>\n",
       "      <th>loan_id</th>\n",
       "      <th>source</th>\n",
       "      <th>financial_institution</th>\n",
       "      <th>interest_rate</th>\n",
       "      <th>unpaid_principal_bal</th>\n",
       "      <th>loan_term</th>\n",
       "      <th>origination_date</th>\n",
       "      <th>first_payment_date</th>\n",
       "      <th>loan_to_value</th>\n",
       "      <th>number_of_borrowers</th>\n",
       "      <th>...</th>\n",
       "      <th>m4</th>\n",
       "      <th>m5</th>\n",
       "      <th>m6</th>\n",
       "      <th>m7</th>\n",
       "      <th>m8</th>\n",
       "      <th>m9</th>\n",
       "      <th>m10</th>\n",
       "      <th>m11</th>\n",
       "      <th>m12</th>\n",
       "      <th>m13</th>\n",
       "    </tr>\n",
       "  </thead>\n",
       "  <tbody>\n",
       "    <tr>\n",
       "      <th>0</th>\n",
       "      <td>268055008619</td>\n",
       "      <td>Z</td>\n",
       "      <td>Turner, Baldwin and Rhodes</td>\n",
       "      <td>4.250</td>\n",
       "      <td>214000</td>\n",
       "      <td>360</td>\n",
       "      <td>2012-03-01</td>\n",
       "      <td>05/2012</td>\n",
       "      <td>95</td>\n",
       "      <td>1.0</td>\n",
       "      <td>...</td>\n",
       "      <td>0</td>\n",
       "      <td>0</td>\n",
       "      <td>0</td>\n",
       "      <td>1</td>\n",
       "      <td>0</td>\n",
       "      <td>0</td>\n",
       "      <td>0</td>\n",
       "      <td>0</td>\n",
       "      <td>0</td>\n",
       "      <td>1</td>\n",
       "    </tr>\n",
       "    <tr>\n",
       "      <th>1</th>\n",
       "      <td>672831657627</td>\n",
       "      <td>Y</td>\n",
       "      <td>Swanson, Newton and Miller</td>\n",
       "      <td>4.875</td>\n",
       "      <td>144000</td>\n",
       "      <td>360</td>\n",
       "      <td>2012-01-01</td>\n",
       "      <td>03/2012</td>\n",
       "      <td>72</td>\n",
       "      <td>1.0</td>\n",
       "      <td>...</td>\n",
       "      <td>0</td>\n",
       "      <td>0</td>\n",
       "      <td>0</td>\n",
       "      <td>0</td>\n",
       "      <td>0</td>\n",
       "      <td>0</td>\n",
       "      <td>0</td>\n",
       "      <td>1</td>\n",
       "      <td>0</td>\n",
       "      <td>1</td>\n",
       "    </tr>\n",
       "    <tr>\n",
       "      <th>2</th>\n",
       "      <td>742515242108</td>\n",
       "      <td>Z</td>\n",
       "      <td>Thornton-Davis</td>\n",
       "      <td>3.250</td>\n",
       "      <td>366000</td>\n",
       "      <td>180</td>\n",
       "      <td>2012-01-01</td>\n",
       "      <td>03/2012</td>\n",
       "      <td>49</td>\n",
       "      <td>1.0</td>\n",
       "      <td>...</td>\n",
       "      <td>0</td>\n",
       "      <td>0</td>\n",
       "      <td>0</td>\n",
       "      <td>0</td>\n",
       "      <td>0</td>\n",
       "      <td>0</td>\n",
       "      <td>0</td>\n",
       "      <td>0</td>\n",
       "      <td>0</td>\n",
       "      <td>1</td>\n",
       "    </tr>\n",
       "    <tr>\n",
       "      <th>3</th>\n",
       "      <td>601385667462</td>\n",
       "      <td>X</td>\n",
       "      <td>OTHER</td>\n",
       "      <td>4.750</td>\n",
       "      <td>135000</td>\n",
       "      <td>360</td>\n",
       "      <td>2012-02-01</td>\n",
       "      <td>04/2012</td>\n",
       "      <td>46</td>\n",
       "      <td>2.0</td>\n",
       "      <td>...</td>\n",
       "      <td>0</td>\n",
       "      <td>0</td>\n",
       "      <td>0</td>\n",
       "      <td>0</td>\n",
       "      <td>0</td>\n",
       "      <td>1</td>\n",
       "      <td>1</td>\n",
       "      <td>1</td>\n",
       "      <td>1</td>\n",
       "      <td>1</td>\n",
       "    </tr>\n",
       "    <tr>\n",
       "      <th>4</th>\n",
       "      <td>273870029961</td>\n",
       "      <td>X</td>\n",
       "      <td>OTHER</td>\n",
       "      <td>4.750</td>\n",
       "      <td>124000</td>\n",
       "      <td>360</td>\n",
       "      <td>2012-02-01</td>\n",
       "      <td>04/2012</td>\n",
       "      <td>80</td>\n",
       "      <td>1.0</td>\n",
       "      <td>...</td>\n",
       "      <td>3</td>\n",
       "      <td>4</td>\n",
       "      <td>5</td>\n",
       "      <td>6</td>\n",
       "      <td>7</td>\n",
       "      <td>8</td>\n",
       "      <td>9</td>\n",
       "      <td>10</td>\n",
       "      <td>11</td>\n",
       "      <td>1</td>\n",
       "    </tr>\n",
       "  </tbody>\n",
       "</table>\n",
       "<p>5 rows × 29 columns</p>\n",
       "</div>"
      ],
      "text/plain": [
       "        loan_id source       financial_institution  interest_rate  \\\n",
       "0  268055008619      Z  Turner, Baldwin and Rhodes          4.250   \n",
       "1  672831657627      Y  Swanson, Newton and Miller          4.875   \n",
       "2  742515242108      Z              Thornton-Davis          3.250   \n",
       "3  601385667462      X                       OTHER          4.750   \n",
       "4  273870029961      X                       OTHER          4.750   \n",
       "\n",
       "   unpaid_principal_bal  loan_term origination_date first_payment_date  \\\n",
       "0                214000        360       2012-03-01            05/2012   \n",
       "1                144000        360       2012-01-01            03/2012   \n",
       "2                366000        180       2012-01-01            03/2012   \n",
       "3                135000        360       2012-02-01            04/2012   \n",
       "4                124000        360       2012-02-01            04/2012   \n",
       "\n",
       "   loan_to_value  number_of_borrowers  ...  m4  m5 m6  m7  m8  m9  m10  m11  \\\n",
       "0             95                  1.0  ...   0   0  0   1   0   0    0    0   \n",
       "1             72                  1.0  ...   0   0  0   0   0   0    0    1   \n",
       "2             49                  1.0  ...   0   0  0   0   0   0    0    0   \n",
       "3             46                  2.0  ...   0   0  0   0   0   1    1    1   \n",
       "4             80                  1.0  ...   3   4  5   6   7   8    9   10   \n",
       "\n",
       "   m12  m13  \n",
       "0    0    1  \n",
       "1    0    1  \n",
       "2    0    1  \n",
       "3    1    1  \n",
       "4   11    1  \n",
       "\n",
       "[5 rows x 29 columns]"
      ]
     },
     "execution_count": 2,
     "metadata": {},
     "output_type": "execute_result"
    }
   ],
   "source": [
    "train_data = pd.read_csv('train.csv')\n",
    "train_data.head()"
   ]
  },
  {
   "cell_type": "code",
   "execution_count": 3,
   "metadata": {
    "ExecuteTime": {
     "end_time": "2019-08-22T15:48:38.304676Z",
     "start_time": "2019-08-22T15:48:38.282540Z"
    }
   },
   "outputs": [
    {
     "data": {
      "text/plain": [
       "(116058, 28)"
      ]
     },
     "execution_count": 3,
     "metadata": {},
     "output_type": "execute_result"
    }
   ],
   "source": [
    "target = train_data['m13']\n",
    "train_data = train_data.drop('m13', axis=1)\n",
    "train_data.shape"
   ]
  },
  {
   "cell_type": "code",
   "execution_count": 4,
   "metadata": {
    "ExecuteTime": {
     "end_time": "2019-08-22T15:48:39.098395Z",
     "start_time": "2019-08-22T15:48:39.088295Z"
    }
   },
   "outputs": [],
   "source": [
    "months = ['m'+str(i) for i in range(1, 13)]\n",
    "months_data = train_data[months]"
   ]
  },
  {
   "cell_type": "code",
   "execution_count": 5,
   "metadata": {
    "ExecuteTime": {
     "end_time": "2019-08-22T15:48:39.971626Z",
     "start_time": "2019-08-22T15:48:39.968443Z"
    }
   },
   "outputs": [],
   "source": [
    "def apply_pca(pca_obj, components_list, n_components, data):\n",
    "    components_data = data[components_list]\n",
    "    applied_pca = pca_obj.transform(components_data)\n",
    "    \n",
    "    data = data.drop(components_list[n_components:], axis=1)\n",
    "    data[components_list[:n_components]] = applied_pca\n",
    "    \n",
    "    return data"
   ]
  },
  {
   "cell_type": "code",
   "execution_count": 6,
   "metadata": {
    "ExecuteTime": {
     "end_time": "2019-08-22T15:48:41.620968Z",
     "start_time": "2019-08-22T15:48:41.380153Z"
    }
   },
   "outputs": [],
   "source": [
    "min_max_scaler = MinMaxScaler().fit(months_data)\n",
    "train_data[months] = min_max_scaler.transform(months_data)"
   ]
  },
  {
   "cell_type": "code",
   "execution_count": 7,
   "metadata": {
    "ExecuteTime": {
     "end_time": "2019-08-22T15:48:42.850435Z",
     "start_time": "2019-08-22T15:48:42.526211Z"
    }
   },
   "outputs": [
    {
     "data": {
      "image/png": "[encoded data removed]",
      "text/plain": [
       "<Figure size 432x288 with 1 Axes>"
      ]
     },
     "metadata": {
      "needs_background": "light"
     },
     "output_type": "display_data"
    }
   ],
   "source": [
    "#Fitting the PCA algorithm with our Data\n",
    "pca = PCA().fit(months_data)\n",
    "#Plotting the Cumulative Summation of the Explained Variance\n",
    "plt.figure()\n",
    "plt.plot(np.cumsum(pca.explained_variance_ratio_))\n",
    "plt.xlabel('Number of Components')\n",
    "plt.ylabel('Variance (%)') #for each component\n",
    "plt.title('Pulsar Dataset Explained Variance')\n",
    "plt.show()"
   ]
  },
  {
   "cell_type": "code",
   "execution_count": 8,
   "metadata": {
    "ExecuteTime": {
     "end_time": "2019-08-22T15:48:43.998323Z",
     "start_time": "2019-08-22T15:48:43.922115Z"
    }
   },
   "outputs": [],
   "source": [
    "pca_months = PCA(n_components=10)\n",
    "pca_months = pca_months.fit(months_data)"
   ]
  },
  {
   "cell_type": "code",
   "execution_count": 9,
   "metadata": {
    "ExecuteTime": {
     "end_time": "2019-08-22T15:48:45.958257Z",
     "start_time": "2019-08-22T15:48:45.587595Z"
    }
   },
   "outputs": [],
   "source": [
    "train_data = apply_pca(pca_months, months, 10, train_data)"
   ]
  },
  {
   "cell_type": "code",
   "execution_count": 1,
   "metadata": {
    "ExecuteTime": {
     "end_time": "2019-08-22T15:42:29.871575Z",
     "start_time": "2019-08-22T15:42:29.855014Z"
    }
   },
   "outputs": [],
   "source": [
    "sns.heatmap(train_data[months[:10]].corr(), annot = True)\n",
    "sns.pairplot(train_data[months[:10]], kind='reg')"
   ]
  },
  {
   "cell_type": "code",
   "execution_count": 10,
   "metadata": {
    "ExecuteTime": {
     "end_time": "2019-08-22T15:48:48.758991Z",
     "start_time": "2019-08-22T15:48:48.749070Z"
    }
   },
   "outputs": [
    {
     "data": {
      "text/plain": [
       "array(['C86', 'B12', 'A23'], dtype=object)"
      ]
     },
     "execution_count": 10,
     "metadata": {},
     "output_type": "execute_result"
    }
   ],
   "source": [
    "train_data['loan_purpose'].unique()"
   ]
  },
  {
   "cell_type": "code",
   "execution_count": 11,
   "metadata": {
    "ExecuteTime": {
     "end_time": "2019-08-22T15:48:50.756935Z",
     "start_time": "2019-08-22T15:48:50.663732Z"
    }
   },
   "outputs": [
    {
     "data": {
      "text/html": [
       "<div>\n",
       "<style scoped>\n",
       "    .dataframe tbody tr th:only-of-type {\n",
       "        vertical-align: middle;\n",
       "    }\n",
       "\n",
       "    .dataframe tbody tr th {\n",
       "        vertical-align: top;\n",
       "    }\n",
       "\n",
       "    .dataframe thead th {\n",
       "        text-align: right;\n",
       "    }\n",
       "</style>\n",
       "<table border=\"1\" class=\"dataframe\">\n",
       "  <thead>\n",
       "    <tr style=\"text-align: right;\">\n",
       "      <th></th>\n",
       "      <th>interest_rate</th>\n",
       "      <th>unpaid_principal_bal</th>\n",
       "      <th>loan_term</th>\n",
       "      <th>loan_to_value</th>\n",
       "      <th>number_of_borrowers</th>\n",
       "      <th>debt_to_income_ratio</th>\n",
       "      <th>borrower_credit_score</th>\n",
       "      <th>insurance_percent</th>\n",
       "      <th>co-borrower_credit_score</th>\n",
       "      <th>insurance_type</th>\n",
       "      <th>...</th>\n",
       "      <th>m4</th>\n",
       "      <th>m5</th>\n",
       "      <th>m6</th>\n",
       "      <th>m7</th>\n",
       "      <th>m8</th>\n",
       "      <th>m9</th>\n",
       "      <th>m10</th>\n",
       "      <th>loan_purpose_A23</th>\n",
       "      <th>loan_purpose_B12</th>\n",
       "      <th>loan_purpose_C86</th>\n",
       "    </tr>\n",
       "  </thead>\n",
       "  <tbody>\n",
       "    <tr>\n",
       "      <th>0</th>\n",
       "      <td>4.250</td>\n",
       "      <td>214000</td>\n",
       "      <td>360</td>\n",
       "      <td>95</td>\n",
       "      <td>1.0</td>\n",
       "      <td>22.0</td>\n",
       "      <td>694.0</td>\n",
       "      <td>30.0</td>\n",
       "      <td>0.0</td>\n",
       "      <td>0.0</td>\n",
       "      <td>...</td>\n",
       "      <td>-0.040626</td>\n",
       "      <td>0.014830</td>\n",
       "      <td>-0.042480</td>\n",
       "      <td>0.025600</td>\n",
       "      <td>-0.024937</td>\n",
       "      <td>0.019138</td>\n",
       "      <td>-0.067237</td>\n",
       "      <td>0</td>\n",
       "      <td>0</td>\n",
       "      <td>1</td>\n",
       "    </tr>\n",
       "    <tr>\n",
       "      <th>1</th>\n",
       "      <td>4.875</td>\n",
       "      <td>144000</td>\n",
       "      <td>360</td>\n",
       "      <td>72</td>\n",
       "      <td>1.0</td>\n",
       "      <td>44.0</td>\n",
       "      <td>697.0</td>\n",
       "      <td>0.0</td>\n",
       "      <td>0.0</td>\n",
       "      <td>0.0</td>\n",
       "      <td>...</td>\n",
       "      <td>0.014549</td>\n",
       "      <td>-0.020466</td>\n",
       "      <td>-0.046795</td>\n",
       "      <td>-0.035611</td>\n",
       "      <td>0.013525</td>\n",
       "      <td>0.000608</td>\n",
       "      <td>-0.000292</td>\n",
       "      <td>0</td>\n",
       "      <td>1</td>\n",
       "      <td>0</td>\n",
       "    </tr>\n",
       "    <tr>\n",
       "      <th>2</th>\n",
       "      <td>3.250</td>\n",
       "      <td>366000</td>\n",
       "      <td>180</td>\n",
       "      <td>49</td>\n",
       "      <td>1.0</td>\n",
       "      <td>33.0</td>\n",
       "      <td>780.0</td>\n",
       "      <td>0.0</td>\n",
       "      <td>0.0</td>\n",
       "      <td>0.0</td>\n",
       "      <td>...</td>\n",
       "      <td>-0.001825</td>\n",
       "      <td>-0.001424</td>\n",
       "      <td>0.000002</td>\n",
       "      <td>-0.000318</td>\n",
       "      <td>0.000043</td>\n",
       "      <td>-0.000285</td>\n",
       "      <td>-0.000100</td>\n",
       "      <td>0</td>\n",
       "      <td>1</td>\n",
       "      <td>0</td>\n",
       "    </tr>\n",
       "    <tr>\n",
       "      <th>3</th>\n",
       "      <td>4.750</td>\n",
       "      <td>135000</td>\n",
       "      <td>360</td>\n",
       "      <td>46</td>\n",
       "      <td>2.0</td>\n",
       "      <td>44.0</td>\n",
       "      <td>633.0</td>\n",
       "      <td>0.0</td>\n",
       "      <td>638.0</td>\n",
       "      <td>0.0</td>\n",
       "      <td>...</td>\n",
       "      <td>0.035019</td>\n",
       "      <td>-0.019018</td>\n",
       "      <td>0.018868</td>\n",
       "      <td>0.004274</td>\n",
       "      <td>0.006530</td>\n",
       "      <td>-0.034775</td>\n",
       "      <td>-0.020178</td>\n",
       "      <td>0</td>\n",
       "      <td>1</td>\n",
       "      <td>0</td>\n",
       "    </tr>\n",
       "    <tr>\n",
       "      <th>4</th>\n",
       "      <td>4.750</td>\n",
       "      <td>124000</td>\n",
       "      <td>360</td>\n",
       "      <td>80</td>\n",
       "      <td>1.0</td>\n",
       "      <td>43.0</td>\n",
       "      <td>681.0</td>\n",
       "      <td>0.0</td>\n",
       "      <td>0.0</td>\n",
       "      <td>0.0</td>\n",
       "      <td>...</td>\n",
       "      <td>-0.072797</td>\n",
       "      <td>-0.116803</td>\n",
       "      <td>0.082916</td>\n",
       "      <td>-0.080699</td>\n",
       "      <td>-0.098976</td>\n",
       "      <td>-0.022961</td>\n",
       "      <td>0.018168</td>\n",
       "      <td>0</td>\n",
       "      <td>0</td>\n",
       "      <td>1</td>\n",
       "    </tr>\n",
       "  </tbody>\n",
       "</table>\n",
       "<p>5 rows × 23 columns</p>\n",
       "</div>"
      ],
      "text/plain": [
       "   interest_rate  unpaid_principal_bal  loan_term  loan_to_value  \\\n",
       "0          4.250                214000        360             95   \n",
       "1          4.875                144000        360             72   \n",
       "2          3.250                366000        180             49   \n",
       "3          4.750                135000        360             46   \n",
       "4          4.750                124000        360             80   \n",
       "\n",
       "   number_of_borrowers  debt_to_income_ratio  borrower_credit_score  \\\n",
       "0                  1.0                  22.0                  694.0   \n",
       "1                  1.0                  44.0                  697.0   \n",
       "2                  1.0                  33.0                  780.0   \n",
       "3                  2.0                  44.0                  633.0   \n",
       "4                  1.0                  43.0                  681.0   \n",
       "\n",
       "   insurance_percent  co-borrower_credit_score  insurance_type  ...        m4  \\\n",
       "0               30.0                       0.0             0.0  ... -0.040626   \n",
       "1                0.0                       0.0             0.0  ...  0.014549   \n",
       "2                0.0                       0.0             0.0  ... -0.001825   \n",
       "3                0.0                     638.0             0.0  ...  0.035019   \n",
       "4                0.0                       0.0             0.0  ... -0.072797   \n",
       "\n",
       "         m5        m6        m7        m8        m9       m10  \\\n",
       "0  0.014830 -0.042480  0.025600 -0.024937  0.019138 -0.067237   \n",
       "1 -0.020466 -0.046795 -0.035611  0.013525  0.000608 -0.000292   \n",
       "2 -0.001424  0.000002 -0.000318  0.000043 -0.000285 -0.000100   \n",
       "3 -0.019018  0.018868  0.004274  0.006530 -0.034775 -0.020178   \n",
       "4 -0.116803  0.082916 -0.080699 -0.098976 -0.022961  0.018168   \n",
       "\n",
       "   loan_purpose_A23  loan_purpose_B12  loan_purpose_C86  \n",
       "0                 0                 0                 1  \n",
       "1                 0                 1                 0  \n",
       "2                 0                 1                 0  \n",
       "3                 0                 1                 0  \n",
       "4                 0                 0                 1  \n",
       "\n",
       "[5 rows x 23 columns]"
      ]
     },
     "execution_count": 11,
     "metadata": {},
     "output_type": "execute_result"
    }
   ],
   "source": [
    "cleaned_train = train_data.drop(labels=['loan_id','source','financial_institution','origination_date','first_payment_date'], axis=1)\n",
    "cleaned_train = pd.concat([cleaned_train, pd.get_dummies(cleaned_train['loan_purpose'], prefix='loan_purpose')], axis=1)\n",
    "cleaned_train = cleaned_train.drop(labels=['loan_purpose'], axis=1)\n",
    "cleaned_train.head()"
   ]
  },
  {
   "cell_type": "code",
   "execution_count": 12,
   "metadata": {
    "ExecuteTime": {
     "end_time": "2019-08-22T15:48:53.274490Z",
     "start_time": "2019-08-22T15:48:53.266720Z"
    }
   },
   "outputs": [],
   "source": [
    "non_scaled_list = ['loan_purpose_C86', 'loan_purpose_B12', 'loan_purpose_A23', \n",
    "                   'number_of_borrowers', 'insurance_type']"
   ]
  },
  {
   "cell_type": "code",
   "execution_count": 13,
   "metadata": {
    "ExecuteTime": {
     "end_time": "2019-08-22T15:48:54.936882Z",
     "start_time": "2019-08-22T15:48:54.923785Z"
    }
   },
   "outputs": [],
   "source": [
    "non_scaled = cleaned_train[non_scaled_list]\n",
    "cleaned_train = cleaned_train.drop(non_scaled_list, axis=1)"
   ]
  },
  {
   "cell_type": "code",
   "execution_count": 14,
   "metadata": {
    "ExecuteTime": {
     "end_time": "2019-08-22T15:48:56.589352Z",
     "start_time": "2019-08-22T15:48:56.475441Z"
    }
   },
   "outputs": [
    {
     "data": {
      "text/html": [
       "<div>\n",
       "<style scoped>\n",
       "    .dataframe tbody tr th:only-of-type {\n",
       "        vertical-align: middle;\n",
       "    }\n",
       "\n",
       "    .dataframe tbody tr th {\n",
       "        vertical-align: top;\n",
       "    }\n",
       "\n",
       "    .dataframe thead th {\n",
       "        text-align: right;\n",
       "    }\n",
       "</style>\n",
       "<table border=\"1\" class=\"dataframe\">\n",
       "  <thead>\n",
       "    <tr style=\"text-align: right;\">\n",
       "      <th></th>\n",
       "      <th>interest_rate</th>\n",
       "      <th>unpaid_principal_bal</th>\n",
       "      <th>loan_term</th>\n",
       "      <th>loan_to_value</th>\n",
       "      <th>debt_to_income_ratio</th>\n",
       "      <th>borrower_credit_score</th>\n",
       "      <th>insurance_percent</th>\n",
       "      <th>co-borrower_credit_score</th>\n",
       "      <th>m1</th>\n",
       "      <th>m2</th>\n",
       "      <th>...</th>\n",
       "      <th>m6</th>\n",
       "      <th>m7</th>\n",
       "      <th>m8</th>\n",
       "      <th>m9</th>\n",
       "      <th>m10</th>\n",
       "      <th>loan_purpose_C86</th>\n",
       "      <th>loan_purpose_B12</th>\n",
       "      <th>loan_purpose_A23</th>\n",
       "      <th>number_of_borrowers</th>\n",
       "      <th>insurance_type</th>\n",
       "    </tr>\n",
       "  </thead>\n",
       "  <tbody>\n",
       "    <tr>\n",
       "      <th>0</th>\n",
       "      <td>0.826517</td>\n",
       "      <td>0.050345</td>\n",
       "      <td>0.754428</td>\n",
       "      <td>1.594300</td>\n",
       "      <td>-0.898419</td>\n",
       "      <td>-1.798764</td>\n",
       "      <td>3.361200</td>\n",
       "      <td>-1.203344</td>\n",
       "      <td>0.890709</td>\n",
       "      <td>2.532023</td>\n",
       "      <td>...</td>\n",
       "      <td>-6.707014</td>\n",
       "      <td>3.780450</td>\n",
       "      <td>-2.833206</td>\n",
       "      <td>3.802284</td>\n",
       "      <td>-14.224331</td>\n",
       "      <td>1</td>\n",
       "      <td>0</td>\n",
       "      <td>0</td>\n",
       "      <td>1.0</td>\n",
       "      <td>0.0</td>\n",
       "    </tr>\n",
       "    <tr>\n",
       "      <th>1</th>\n",
       "      <td>2.182212</td>\n",
       "      <td>-0.560025</td>\n",
       "      <td>0.754428</td>\n",
       "      <td>0.264177</td>\n",
       "      <td>1.362454</td>\n",
       "      <td>-1.727692</td>\n",
       "      <td>-0.344138</td>\n",
       "      <td>-1.203344</td>\n",
       "      <td>1.180697</td>\n",
       "      <td>-1.263724</td>\n",
       "      <td>...</td>\n",
       "      <td>-7.389501</td>\n",
       "      <td>-5.175030</td>\n",
       "      <td>1.530072</td>\n",
       "      <td>0.171193</td>\n",
       "      <td>-0.046614</td>\n",
       "      <td>0</td>\n",
       "      <td>1</td>\n",
       "      <td>0</td>\n",
       "      <td>1.0</td>\n",
       "      <td>0.0</td>\n",
       "    </tr>\n",
       "    <tr>\n",
       "      <th>2</th>\n",
       "      <td>-1.342595</td>\n",
       "      <td>1.375719</td>\n",
       "      <td>-1.250874</td>\n",
       "      <td>-1.065945</td>\n",
       "      <td>0.232018</td>\n",
       "      <td>0.238642</td>\n",
       "      <td>-0.344138</td>\n",
       "      <td>-1.203344</td>\n",
       "      <td>-0.050986</td>\n",
       "      <td>-0.043879</td>\n",
       "      <td>...</td>\n",
       "      <td>0.011443</td>\n",
       "      <td>-0.011533</td>\n",
       "      <td>0.000619</td>\n",
       "      <td>-0.003764</td>\n",
       "      <td>-0.005998</td>\n",
       "      <td>0</td>\n",
       "      <td>1</td>\n",
       "      <td>0</td>\n",
       "      <td>1.0</td>\n",
       "      <td>0.0</td>\n",
       "    </tr>\n",
       "    <tr>\n",
       "      <th>3</th>\n",
       "      <td>1.911073</td>\n",
       "      <td>-0.638501</td>\n",
       "      <td>0.754428</td>\n",
       "      <td>-1.239439</td>\n",
       "      <td>1.362454</td>\n",
       "      <td>-3.243901</td>\n",
       "      <td>-0.344138</td>\n",
       "      <td>0.467052</td>\n",
       "      <td>4.705048</td>\n",
       "      <td>-3.374529</td>\n",
       "      <td>...</td>\n",
       "      <td>2.995207</td>\n",
       "      <td>0.660385</td>\n",
       "      <td>0.736542</td>\n",
       "      <td>-6.762269</td>\n",
       "      <td>-4.258132</td>\n",
       "      <td>0</td>\n",
       "      <td>1</td>\n",
       "      <td>0</td>\n",
       "      <td>2.0</td>\n",
       "      <td>0.0</td>\n",
       "    </tr>\n",
       "    <tr>\n",
       "      <th>4</th>\n",
       "      <td>1.911073</td>\n",
       "      <td>-0.734416</td>\n",
       "      <td>0.754428</td>\n",
       "      <td>0.726829</td>\n",
       "      <td>1.259687</td>\n",
       "      <td>-2.106744</td>\n",
       "      <td>-0.344138</td>\n",
       "      <td>-1.203344</td>\n",
       "      <td>68.425985</td>\n",
       "      <td>38.431910</td>\n",
       "      <td>...</td>\n",
       "      <td>13.124345</td>\n",
       "      <td>-11.771534</td>\n",
       "      <td>-11.232359</td>\n",
       "      <td>-4.447236</td>\n",
       "      <td>3.862839</td>\n",
       "      <td>1</td>\n",
       "      <td>0</td>\n",
       "      <td>0</td>\n",
       "      <td>1.0</td>\n",
       "      <td>0.0</td>\n",
       "    </tr>\n",
       "  </tbody>\n",
       "</table>\n",
       "<p>5 rows × 23 columns</p>\n",
       "</div>"
      ],
      "text/plain": [
       "   interest_rate  unpaid_principal_bal  loan_term  loan_to_value  \\\n",
       "0       0.826517              0.050345   0.754428       1.594300   \n",
       "1       2.182212             -0.560025   0.754428       0.264177   \n",
       "2      -1.342595              1.375719  -1.250874      -1.065945   \n",
       "3       1.911073             -0.638501   0.754428      -1.239439   \n",
       "4       1.911073             -0.734416   0.754428       0.726829   \n",
       "\n",
       "   debt_to_income_ratio  borrower_credit_score  insurance_percent  \\\n",
       "0             -0.898419              -1.798764           3.361200   \n",
       "1              1.362454              -1.727692          -0.344138   \n",
       "2              0.232018               0.238642          -0.344138   \n",
       "3              1.362454              -3.243901          -0.344138   \n",
       "4              1.259687              -2.106744          -0.344138   \n",
       "\n",
       "   co-borrower_credit_score         m1         m2  ...         m6         m7  \\\n",
       "0                 -1.203344   0.890709   2.532023  ...  -6.707014   3.780450   \n",
       "1                 -1.203344   1.180697  -1.263724  ...  -7.389501  -5.175030   \n",
       "2                 -1.203344  -0.050986  -0.043879  ...   0.011443  -0.011533   \n",
       "3                  0.467052   4.705048  -3.374529  ...   2.995207   0.660385   \n",
       "4                 -1.203344  68.425985  38.431910  ...  13.124345 -11.771534   \n",
       "\n",
       "          m8        m9        m10  loan_purpose_C86  loan_purpose_B12  \\\n",
       "0  -2.833206  3.802284 -14.224331                 1                 0   \n",
       "1   1.530072  0.171193  -0.046614                 0                 1   \n",
       "2   0.000619 -0.003764  -0.005998                 0                 1   \n",
       "3   0.736542 -6.762269  -4.258132                 0                 1   \n",
       "4 -11.232359 -4.447236   3.862839                 1                 0   \n",
       "\n",
       "   loan_purpose_A23  number_of_borrowers  insurance_type  \n",
       "0                 0                  1.0             0.0  \n",
       "1                 0                  1.0             0.0  \n",
       "2                 0                  1.0             0.0  \n",
       "3                 0                  2.0             0.0  \n",
       "4                 0                  1.0             0.0  \n",
       "\n",
       "[5 rows x 23 columns]"
      ]
     },
     "execution_count": 14,
     "metadata": {},
     "output_type": "execute_result"
    }
   ],
   "source": [
    "std_scaler = StandardScaler().fit(cleaned_train)\n",
    "train_cols_list = list(cleaned_train.columns)\n",
    "cleaned_train = std_scaler.transform(cleaned_train)\n",
    "\n",
    "cleaned_train = pd.DataFrame(cleaned_train, columns=train_cols_list)\n",
    "\n",
    "cleaned_train = pd.concat([cleaned_train, non_scaled], axis=1)\n",
    "cleaned_train.head()"
   ]
  },
  {
   "cell_type": "code",
   "execution_count": 15,
   "metadata": {
    "ExecuteTime": {
     "end_time": "2019-08-22T15:49:17.070529Z",
     "start_time": "2019-08-22T15:49:17.041328Z"
    }
   },
   "outputs": [],
   "source": [
    "X = np.asarray(cleaned_train)\n",
    "y = np.asarray(target)"
   ]
  },
  {
   "cell_type": "code",
   "execution_count": 16,
   "metadata": {
    "ExecuteTime": {
     "end_time": "2019-08-22T15:49:20.339226Z",
     "start_time": "2019-08-22T15:49:20.328537Z"
    }
   },
   "outputs": [],
   "source": [
    "classifier_rfc = RandomForestClassifier()"
   ]
  },
  {
   "cell_type": "code",
   "execution_count": 17,
   "metadata": {
    "ExecuteTime": {
     "end_time": "2019-08-22T15:49:21.692897Z",
     "start_time": "2019-08-22T15:49:21.690250Z"
    }
   },
   "outputs": [],
   "source": [
    "classifier_adaboost = AdaBoostClassifier()"
   ]
  },
  {
   "cell_type": "code",
   "execution_count": 18,
   "metadata": {
    "ExecuteTime": {
     "end_time": "2019-08-22T15:49:22.967008Z",
     "start_time": "2019-08-22T15:49:22.964369Z"
    }
   },
   "outputs": [],
   "source": [
    "classifier_rfc_adaboost = AdaBoostClassifier(base_estimator=classifier_rfc)"
   ]
  },
  {
   "cell_type": "code",
   "execution_count": null,
   "metadata": {},
   "outputs": [],
   "source": []
  },
  {
   "cell_type": "code",
   "execution_count": 19,
   "metadata": {
    "ExecuteTime": {
     "end_time": "2019-08-22T15:49:31.948735Z",
     "start_time": "2019-08-22T15:49:30.796593Z"
    }
   },
   "outputs": [
    {
     "name": "stderr",
     "output_type": "stream",
     "text": [
      "/home/praneet/venv/deep_learning/lib/python3.5/site-packages/sklearn/ensemble/forest.py:245: FutureWarning: The default value of n_estimators will change from 10 in version 0.20 to 100 in 0.22.\n",
      "  \"10 in version 0.20 to 100 in 0.22.\", FutureWarning)\n"
     ]
    },
    {
     "data": {
      "text/plain": [
       "RandomForestClassifier(bootstrap=True, class_weight=None, criterion='gini',\n",
       "                       max_depth=None, max_features='auto', max_leaf_nodes=None,\n",
       "                       min_impurity_decrease=0.0, min_impurity_split=None,\n",
       "                       min_samples_leaf=1, min_samples_split=2,\n",
       "                       min_weight_fraction_leaf=0.0, n_estimators=10,\n",
       "                       n_jobs=None, oob_score=False, random_state=None,\n",
       "                       verbose=0, warm_start=False)"
      ]
     },
     "execution_count": 19,
     "metadata": {},
     "output_type": "execute_result"
    }
   ],
   "source": [
    "classifier_rfc.fit(X, y)"
   ]
  },
  {
   "cell_type": "code",
   "execution_count": 20,
   "metadata": {
    "ExecuteTime": {
     "end_time": "2019-08-22T15:49:50.455482Z",
     "start_time": "2019-08-22T15:49:46.481861Z"
    }
   },
   "outputs": [
    {
     "data": {
      "text/plain": [
       "AdaBoostClassifier(algorithm='SAMME.R', base_estimator=None, learning_rate=1.0,\n",
       "                   n_estimators=50, random_state=None)"
      ]
     },
     "execution_count": 20,
     "metadata": {},
     "output_type": "execute_result"
    }
   ],
   "source": [
    "classifier_adaboost.fit(X, y)"
   ]
  },
  {
   "cell_type": "code",
   "execution_count": 21,
   "metadata": {
    "ExecuteTime": {
     "end_time": "2019-08-22T15:51:08.938004Z",
     "start_time": "2019-08-22T15:49:56.620808Z"
    }
   },
   "outputs": [
    {
     "data": {
      "text/plain": [
       "AdaBoostClassifier(algorithm='SAMME.R',\n",
       "                   base_estimator=RandomForestClassifier(bootstrap=True,\n",
       "                                                         class_weight=None,\n",
       "                                                         criterion='gini',\n",
       "                                                         max_depth=None,\n",
       "                                                         max_features='auto',\n",
       "                                                         max_leaf_nodes=None,\n",
       "                                                         min_impurity_decrease=0.0,\n",
       "                                                         min_impurity_split=None,\n",
       "                                                         min_samples_leaf=1,\n",
       "                                                         min_samples_split=2,\n",
       "                                                         min_weight_fraction_leaf=0.0,\n",
       "                                                         n_estimators=10,\n",
       "                                                         n_jobs=None,\n",
       "                                                         oob_score=False,\n",
       "                                                         random_state=None,\n",
       "                                                         verbose=0,\n",
       "                                                         warm_start=False),\n",
       "                   learning_rate=1.0, n_estimators=50, random_state=None)"
      ]
     },
     "execution_count": 21,
     "metadata": {},
     "output_type": "execute_result"
    }
   ],
   "source": [
    "classifier_rfc_adaboost.fit(X, y)"
   ]
  },
  {
   "cell_type": "code",
   "execution_count": null,
   "metadata": {},
   "outputs": [],
   "source": []
  },
  {
   "cell_type": "code",
   "execution_count": 8,
   "metadata": {
    "ExecuteTime": {
     "end_time": "2019-08-18T17:11:19.164516Z",
     "start_time": "2019-08-18T17:11:18.643714Z"
    }
   },
   "outputs": [
    {
     "data": {
      "text/plain": [
       "1    115422\n",
       "0    115422\n",
       "Name: m13, dtype: int64"
      ]
     },
     "execution_count": 8,
     "metadata": {},
     "output_type": "execute_result"
    }
   ],
   "source": [
    "# from sklearn.utils import resample\n",
    "\n",
    "# # separate minority and majority classes\n",
    "# non_deliquent = cleaned_train[cleaned_train.m13==0]\n",
    "# deliquent = cleaned_train[cleaned_train.m13==1]\n",
    "\n",
    "# # upsample minority\n",
    "# deliquent_upsampled = resample(deliquent,\n",
    "#                           replace=True, # sample with replacement\n",
    "#                           n_samples=len(non_deliquent), # match number in majority class\n",
    "#                           random_state=358) # reproducible results\n",
    "\n",
    "# # combine majority and upsampled minority\n",
    "# upsampled = pd.concat([non_deliquent, deliquent_upsampled])\n",
    "\n",
    "# # check new class counts\n",
    "# upsampled.m13.value_counts()"
   ]
  },
  {
   "cell_type": "code",
   "execution_count": null,
   "metadata": {},
   "outputs": [],
   "source": []
  },
  {
   "cell_type": "code",
   "execution_count": 22,
   "metadata": {
    "ExecuteTime": {
     "end_time": "2019-08-22T15:51:10.520484Z",
     "start_time": "2019-08-22T15:51:10.334937Z"
    }
   },
   "outputs": [
    {
     "data": {
      "text/html": [
       "<div>\n",
       "<style scoped>\n",
       "    .dataframe tbody tr th:only-of-type {\n",
       "        vertical-align: middle;\n",
       "    }\n",
       "\n",
       "    .dataframe tbody tr th {\n",
       "        vertical-align: top;\n",
       "    }\n",
       "\n",
       "    .dataframe thead th {\n",
       "        text-align: right;\n",
       "    }\n",
       "</style>\n",
       "<table border=\"1\" class=\"dataframe\">\n",
       "  <thead>\n",
       "    <tr style=\"text-align: right;\">\n",
       "      <th></th>\n",
       "      <th>loan_id</th>\n",
       "      <th>source</th>\n",
       "      <th>financial_institution</th>\n",
       "      <th>interest_rate</th>\n",
       "      <th>unpaid_principal_bal</th>\n",
       "      <th>loan_term</th>\n",
       "      <th>origination_date</th>\n",
       "      <th>first_payment_date</th>\n",
       "      <th>loan_to_value</th>\n",
       "      <th>number_of_borrowers</th>\n",
       "      <th>...</th>\n",
       "      <th>m3</th>\n",
       "      <th>m4</th>\n",
       "      <th>m5</th>\n",
       "      <th>m6</th>\n",
       "      <th>m7</th>\n",
       "      <th>m8</th>\n",
       "      <th>m9</th>\n",
       "      <th>m10</th>\n",
       "      <th>m11</th>\n",
       "      <th>m12</th>\n",
       "    </tr>\n",
       "  </thead>\n",
       "  <tbody>\n",
       "    <tr>\n",
       "      <th>0</th>\n",
       "      <td>1</td>\n",
       "      <td>Y</td>\n",
       "      <td>Browning-Hart</td>\n",
       "      <td>3.875</td>\n",
       "      <td>417000</td>\n",
       "      <td>360</td>\n",
       "      <td>01/02/12</td>\n",
       "      <td>Apr-12</td>\n",
       "      <td>75</td>\n",
       "      <td>1</td>\n",
       "      <td>...</td>\n",
       "      <td>0</td>\n",
       "      <td>0</td>\n",
       "      <td>0</td>\n",
       "      <td>0</td>\n",
       "      <td>0</td>\n",
       "      <td>0</td>\n",
       "      <td>0</td>\n",
       "      <td>0</td>\n",
       "      <td>0</td>\n",
       "      <td>0</td>\n",
       "    </tr>\n",
       "    <tr>\n",
       "      <th>1</th>\n",
       "      <td>2</td>\n",
       "      <td>X</td>\n",
       "      <td>OTHER</td>\n",
       "      <td>4.500</td>\n",
       "      <td>113000</td>\n",
       "      <td>360</td>\n",
       "      <td>01/02/12</td>\n",
       "      <td>Apr-12</td>\n",
       "      <td>80</td>\n",
       "      <td>2</td>\n",
       "      <td>...</td>\n",
       "      <td>0</td>\n",
       "      <td>0</td>\n",
       "      <td>0</td>\n",
       "      <td>0</td>\n",
       "      <td>0</td>\n",
       "      <td>0</td>\n",
       "      <td>0</td>\n",
       "      <td>0</td>\n",
       "      <td>0</td>\n",
       "      <td>0</td>\n",
       "    </tr>\n",
       "    <tr>\n",
       "      <th>2</th>\n",
       "      <td>3</td>\n",
       "      <td>Y</td>\n",
       "      <td>OTHER</td>\n",
       "      <td>4.500</td>\n",
       "      <td>72000</td>\n",
       "      <td>360</td>\n",
       "      <td>01/01/12</td>\n",
       "      <td>Mar-12</td>\n",
       "      <td>75</td>\n",
       "      <td>1</td>\n",
       "      <td>...</td>\n",
       "      <td>0</td>\n",
       "      <td>0</td>\n",
       "      <td>0</td>\n",
       "      <td>0</td>\n",
       "      <td>0</td>\n",
       "      <td>0</td>\n",
       "      <td>0</td>\n",
       "      <td>0</td>\n",
       "      <td>0</td>\n",
       "      <td>0</td>\n",
       "    </tr>\n",
       "    <tr>\n",
       "      <th>3</th>\n",
       "      <td>4</td>\n",
       "      <td>X</td>\n",
       "      <td>Miller, Mcclure and Allen</td>\n",
       "      <td>4.125</td>\n",
       "      <td>123000</td>\n",
       "      <td>180</td>\n",
       "      <td>01/02/12</td>\n",
       "      <td>Apr-12</td>\n",
       "      <td>41</td>\n",
       "      <td>2</td>\n",
       "      <td>...</td>\n",
       "      <td>0</td>\n",
       "      <td>0</td>\n",
       "      <td>0</td>\n",
       "      <td>0</td>\n",
       "      <td>0</td>\n",
       "      <td>0</td>\n",
       "      <td>0</td>\n",
       "      <td>0</td>\n",
       "      <td>0</td>\n",
       "      <td>0</td>\n",
       "    </tr>\n",
       "    <tr>\n",
       "      <th>4</th>\n",
       "      <td>5</td>\n",
       "      <td>X</td>\n",
       "      <td>Browning-Hart</td>\n",
       "      <td>3.250</td>\n",
       "      <td>166000</td>\n",
       "      <td>180</td>\n",
       "      <td>01/02/12</td>\n",
       "      <td>Apr-12</td>\n",
       "      <td>53</td>\n",
       "      <td>2</td>\n",
       "      <td>...</td>\n",
       "      <td>0</td>\n",
       "      <td>0</td>\n",
       "      <td>0</td>\n",
       "      <td>0</td>\n",
       "      <td>0</td>\n",
       "      <td>0</td>\n",
       "      <td>0</td>\n",
       "      <td>0</td>\n",
       "      <td>0</td>\n",
       "      <td>0</td>\n",
       "    </tr>\n",
       "  </tbody>\n",
       "</table>\n",
       "<p>5 rows × 28 columns</p>\n",
       "</div>"
      ],
      "text/plain": [
       "   loan_id source      financial_institution  interest_rate  \\\n",
       "0        1      Y              Browning-Hart          3.875   \n",
       "1        2      X                      OTHER          4.500   \n",
       "2        3      Y                      OTHER          4.500   \n",
       "3        4      X  Miller, Mcclure and Allen          4.125   \n",
       "4        5      X              Browning-Hart          3.250   \n",
       "\n",
       "   unpaid_principal_bal  loan_term origination_date first_payment_date  \\\n",
       "0                417000        360         01/02/12             Apr-12   \n",
       "1                113000        360         01/02/12             Apr-12   \n",
       "2                 72000        360         01/01/12             Mar-12   \n",
       "3                123000        180         01/02/12             Apr-12   \n",
       "4                166000        180         01/02/12             Apr-12   \n",
       "\n",
       "   loan_to_value  number_of_borrowers  ...  m3  m4 m5  m6  m7  m8  m9  m10  \\\n",
       "0             75                    1  ...   0   0  0   0   0   0   0    0   \n",
       "1             80                    2  ...   0   0  0   0   0   0   0    0   \n",
       "2             75                    1  ...   0   0  0   0   0   0   0    0   \n",
       "3             41                    2  ...   0   0  0   0   0   0   0    0   \n",
       "4             53                    2  ...   0   0  0   0   0   0   0    0   \n",
       "\n",
       "   m11  m12  \n",
       "0    0    0  \n",
       "1    0    0  \n",
       "2    0    0  \n",
       "3    0    0  \n",
       "4    0    0  \n",
       "\n",
       "[5 rows x 28 columns]"
      ]
     },
     "execution_count": 22,
     "metadata": {},
     "output_type": "execute_result"
    }
   ],
   "source": [
    "test_data = pd.read_csv('test.csv')\n",
    "test_data.head()"
   ]
  },
  {
   "cell_type": "code",
   "execution_count": 23,
   "metadata": {
    "ExecuteTime": {
     "end_time": "2019-08-22T15:52:51.511509Z",
     "start_time": "2019-08-22T15:52:51.282932Z"
    }
   },
   "outputs": [],
   "source": [
    "test_data[months] = min_max_scaler.transform(test_data[months])\n",
    "test_data = apply_pca(pca_months, months, 10, test_data)"
   ]
  },
  {
   "cell_type": "code",
   "execution_count": 24,
   "metadata": {
    "ExecuteTime": {
     "end_time": "2019-08-22T15:52:53.235722Z",
     "start_time": "2019-08-22T15:52:53.203216Z"
    }
   },
   "outputs": [
    {
     "data": {
      "text/html": [
       "<div>\n",
       "<style scoped>\n",
       "    .dataframe tbody tr th:only-of-type {\n",
       "        vertical-align: middle;\n",
       "    }\n",
       "\n",
       "    .dataframe tbody tr th {\n",
       "        vertical-align: top;\n",
       "    }\n",
       "\n",
       "    .dataframe thead th {\n",
       "        text-align: right;\n",
       "    }\n",
       "</style>\n",
       "<table border=\"1\" class=\"dataframe\">\n",
       "  <thead>\n",
       "    <tr style=\"text-align: right;\">\n",
       "      <th></th>\n",
       "      <th>interest_rate</th>\n",
       "      <th>unpaid_principal_bal</th>\n",
       "      <th>loan_term</th>\n",
       "      <th>loan_to_value</th>\n",
       "      <th>number_of_borrowers</th>\n",
       "      <th>debt_to_income_ratio</th>\n",
       "      <th>borrower_credit_score</th>\n",
       "      <th>insurance_percent</th>\n",
       "      <th>co-borrower_credit_score</th>\n",
       "      <th>insurance_type</th>\n",
       "      <th>...</th>\n",
       "      <th>m4</th>\n",
       "      <th>m5</th>\n",
       "      <th>m6</th>\n",
       "      <th>m7</th>\n",
       "      <th>m8</th>\n",
       "      <th>m9</th>\n",
       "      <th>m10</th>\n",
       "      <th>loan_purpose_A23</th>\n",
       "      <th>loan_purpose_B12</th>\n",
       "      <th>loan_purpose_C86</th>\n",
       "    </tr>\n",
       "  </thead>\n",
       "  <tbody>\n",
       "    <tr>\n",
       "      <th>0</th>\n",
       "      <td>3.875</td>\n",
       "      <td>417000</td>\n",
       "      <td>360</td>\n",
       "      <td>75</td>\n",
       "      <td>1</td>\n",
       "      <td>20</td>\n",
       "      <td>790</td>\n",
       "      <td>0</td>\n",
       "      <td>0</td>\n",
       "      <td>0</td>\n",
       "      <td>...</td>\n",
       "      <td>-0.001825</td>\n",
       "      <td>-0.001424</td>\n",
       "      <td>0.000002</td>\n",
       "      <td>-0.000318</td>\n",
       "      <td>0.000043</td>\n",
       "      <td>-0.000285</td>\n",
       "      <td>-0.0001</td>\n",
       "      <td>1</td>\n",
       "      <td>0</td>\n",
       "      <td>0</td>\n",
       "    </tr>\n",
       "    <tr>\n",
       "      <th>1</th>\n",
       "      <td>4.500</td>\n",
       "      <td>113000</td>\n",
       "      <td>360</td>\n",
       "      <td>80</td>\n",
       "      <td>2</td>\n",
       "      <td>33</td>\n",
       "      <td>793</td>\n",
       "      <td>0</td>\n",
       "      <td>784</td>\n",
       "      <td>0</td>\n",
       "      <td>...</td>\n",
       "      <td>-0.001825</td>\n",
       "      <td>-0.001424</td>\n",
       "      <td>0.000002</td>\n",
       "      <td>-0.000318</td>\n",
       "      <td>0.000043</td>\n",
       "      <td>-0.000285</td>\n",
       "      <td>-0.0001</td>\n",
       "      <td>0</td>\n",
       "      <td>0</td>\n",
       "      <td>1</td>\n",
       "    </tr>\n",
       "    <tr>\n",
       "      <th>2</th>\n",
       "      <td>4.500</td>\n",
       "      <td>72000</td>\n",
       "      <td>360</td>\n",
       "      <td>75</td>\n",
       "      <td>1</td>\n",
       "      <td>34</td>\n",
       "      <td>710</td>\n",
       "      <td>0</td>\n",
       "      <td>0</td>\n",
       "      <td>0</td>\n",
       "      <td>...</td>\n",
       "      <td>-0.001825</td>\n",
       "      <td>-0.001424</td>\n",
       "      <td>0.000002</td>\n",
       "      <td>-0.000318</td>\n",
       "      <td>0.000043</td>\n",
       "      <td>-0.000285</td>\n",
       "      <td>-0.0001</td>\n",
       "      <td>0</td>\n",
       "      <td>0</td>\n",
       "      <td>1</td>\n",
       "    </tr>\n",
       "    <tr>\n",
       "      <th>3</th>\n",
       "      <td>4.125</td>\n",
       "      <td>123000</td>\n",
       "      <td>180</td>\n",
       "      <td>41</td>\n",
       "      <td>2</td>\n",
       "      <td>24</td>\n",
       "      <td>798</td>\n",
       "      <td>0</td>\n",
       "      <td>813</td>\n",
       "      <td>0</td>\n",
       "      <td>...</td>\n",
       "      <td>-0.001825</td>\n",
       "      <td>-0.001424</td>\n",
       "      <td>0.000002</td>\n",
       "      <td>-0.000318</td>\n",
       "      <td>0.000043</td>\n",
       "      <td>-0.000285</td>\n",
       "      <td>-0.0001</td>\n",
       "      <td>1</td>\n",
       "      <td>0</td>\n",
       "      <td>0</td>\n",
       "    </tr>\n",
       "    <tr>\n",
       "      <th>4</th>\n",
       "      <td>3.250</td>\n",
       "      <td>166000</td>\n",
       "      <td>180</td>\n",
       "      <td>53</td>\n",
       "      <td>2</td>\n",
       "      <td>12</td>\n",
       "      <td>767</td>\n",
       "      <td>0</td>\n",
       "      <td>768</td>\n",
       "      <td>0</td>\n",
       "      <td>...</td>\n",
       "      <td>-0.001825</td>\n",
       "      <td>-0.001424</td>\n",
       "      <td>0.000002</td>\n",
       "      <td>-0.000318</td>\n",
       "      <td>0.000043</td>\n",
       "      <td>-0.000285</td>\n",
       "      <td>-0.0001</td>\n",
       "      <td>1</td>\n",
       "      <td>0</td>\n",
       "      <td>0</td>\n",
       "    </tr>\n",
       "  </tbody>\n",
       "</table>\n",
       "<p>5 rows × 23 columns</p>\n",
       "</div>"
      ],
      "text/plain": [
       "   interest_rate  unpaid_principal_bal  loan_term  loan_to_value  \\\n",
       "0          3.875                417000        360             75   \n",
       "1          4.500                113000        360             80   \n",
       "2          4.500                 72000        360             75   \n",
       "3          4.125                123000        180             41   \n",
       "4          3.250                166000        180             53   \n",
       "\n",
       "   number_of_borrowers  debt_to_income_ratio  borrower_credit_score  \\\n",
       "0                    1                    20                    790   \n",
       "1                    2                    33                    793   \n",
       "2                    1                    34                    710   \n",
       "3                    2                    24                    798   \n",
       "4                    2                    12                    767   \n",
       "\n",
       "   insurance_percent  co-borrower_credit_score  insurance_type  ...        m4  \\\n",
       "0                  0                         0               0  ... -0.001825   \n",
       "1                  0                       784               0  ... -0.001825   \n",
       "2                  0                         0               0  ... -0.001825   \n",
       "3                  0                       813               0  ... -0.001825   \n",
       "4                  0                       768               0  ... -0.001825   \n",
       "\n",
       "         m5        m6        m7        m8        m9     m10  loan_purpose_A23  \\\n",
       "0 -0.001424  0.000002 -0.000318  0.000043 -0.000285 -0.0001                 1   \n",
       "1 -0.001424  0.000002 -0.000318  0.000043 -0.000285 -0.0001                 0   \n",
       "2 -0.001424  0.000002 -0.000318  0.000043 -0.000285 -0.0001                 0   \n",
       "3 -0.001424  0.000002 -0.000318  0.000043 -0.000285 -0.0001                 1   \n",
       "4 -0.001424  0.000002 -0.000318  0.000043 -0.000285 -0.0001                 1   \n",
       "\n",
       "   loan_purpose_B12  loan_purpose_C86  \n",
       "0                 0                 0  \n",
       "1                 0                 1  \n",
       "2                 0                 1  \n",
       "3                 0                 0  \n",
       "4                 0                 0  \n",
       "\n",
       "[5 rows x 23 columns]"
      ]
     },
     "execution_count": 24,
     "metadata": {},
     "output_type": "execute_result"
    }
   ],
   "source": [
    "cleaned_test = test_data.drop(labels=['loan_id','source','financial_institution','origination_date','first_payment_date'], axis=1)\n",
    "cleaned_test = pd.concat([cleaned_test, pd.get_dummies(cleaned_test['loan_purpose'], prefix='loan_purpose')], axis=1)\n",
    "cleaned_test = cleaned_test.drop(labels=['loan_purpose'], axis=1)\n",
    "cleaned_test.head()"
   ]
  },
  {
   "cell_type": "code",
   "execution_count": 25,
   "metadata": {
    "ExecuteTime": {
     "end_time": "2019-08-22T15:53:04.702529Z",
     "start_time": "2019-08-22T15:53:04.685521Z"
    }
   },
   "outputs": [],
   "source": [
    "non_scaled_test = cleaned_test[non_scaled_list]\n",
    "cleaned_test = cleaned_test.drop(non_scaled_list, axis=1)"
   ]
  },
  {
   "cell_type": "code",
   "execution_count": 26,
   "metadata": {
    "ExecuteTime": {
     "end_time": "2019-08-22T15:53:06.847798Z",
     "start_time": "2019-08-22T15:53:06.819451Z"
    }
   },
   "outputs": [
    {
     "data": {
      "text/html": [
       "<div>\n",
       "<style scoped>\n",
       "    .dataframe tbody tr th:only-of-type {\n",
       "        vertical-align: middle;\n",
       "    }\n",
       "\n",
       "    .dataframe tbody tr th {\n",
       "        vertical-align: top;\n",
       "    }\n",
       "\n",
       "    .dataframe thead th {\n",
       "        text-align: right;\n",
       "    }\n",
       "</style>\n",
       "<table border=\"1\" class=\"dataframe\">\n",
       "  <thead>\n",
       "    <tr style=\"text-align: right;\">\n",
       "      <th></th>\n",
       "      <th>interest_rate</th>\n",
       "      <th>unpaid_principal_bal</th>\n",
       "      <th>loan_term</th>\n",
       "      <th>loan_to_value</th>\n",
       "      <th>debt_to_income_ratio</th>\n",
       "      <th>borrower_credit_score</th>\n",
       "      <th>insurance_percent</th>\n",
       "      <th>co-borrower_credit_score</th>\n",
       "      <th>m1</th>\n",
       "      <th>m2</th>\n",
       "      <th>...</th>\n",
       "      <th>m6</th>\n",
       "      <th>m7</th>\n",
       "      <th>m8</th>\n",
       "      <th>m9</th>\n",
       "      <th>m10</th>\n",
       "      <th>loan_purpose_C86</th>\n",
       "      <th>loan_purpose_B12</th>\n",
       "      <th>loan_purpose_A23</th>\n",
       "      <th>number_of_borrowers</th>\n",
       "      <th>insurance_type</th>\n",
       "    </tr>\n",
       "  </thead>\n",
       "  <tbody>\n",
       "    <tr>\n",
       "      <th>0</th>\n",
       "      <td>0.013100</td>\n",
       "      <td>1.820417</td>\n",
       "      <td>0.754428</td>\n",
       "      <td>0.437672</td>\n",
       "      <td>-1.103953</td>\n",
       "      <td>0.475550</td>\n",
       "      <td>-0.344138</td>\n",
       "      <td>-1.203344</td>\n",
       "      <td>-0.050986</td>\n",
       "      <td>-0.043879</td>\n",
       "      <td>...</td>\n",
       "      <td>0.011443</td>\n",
       "      <td>-0.011533</td>\n",
       "      <td>0.000619</td>\n",
       "      <td>-0.003764</td>\n",
       "      <td>-0.005998</td>\n",
       "      <td>0</td>\n",
       "      <td>0</td>\n",
       "      <td>1</td>\n",
       "      <td>1</td>\n",
       "      <td>0</td>\n",
       "    </tr>\n",
       "    <tr>\n",
       "      <th>1</th>\n",
       "      <td>1.368795</td>\n",
       "      <td>-0.830331</td>\n",
       "      <td>0.754428</td>\n",
       "      <td>0.726829</td>\n",
       "      <td>0.232018</td>\n",
       "      <td>0.546622</td>\n",
       "      <td>-0.344138</td>\n",
       "      <td>0.849306</td>\n",
       "      <td>-0.050986</td>\n",
       "      <td>-0.043879</td>\n",
       "      <td>...</td>\n",
       "      <td>0.011443</td>\n",
       "      <td>-0.011533</td>\n",
       "      <td>0.000619</td>\n",
       "      <td>-0.003764</td>\n",
       "      <td>-0.005998</td>\n",
       "      <td>1</td>\n",
       "      <td>0</td>\n",
       "      <td>0</td>\n",
       "      <td>2</td>\n",
       "      <td>0</td>\n",
       "    </tr>\n",
       "    <tr>\n",
       "      <th>2</th>\n",
       "      <td>1.368795</td>\n",
       "      <td>-1.187834</td>\n",
       "      <td>0.754428</td>\n",
       "      <td>0.437672</td>\n",
       "      <td>0.334785</td>\n",
       "      <td>-1.419712</td>\n",
       "      <td>-0.344138</td>\n",
       "      <td>-1.203344</td>\n",
       "      <td>-0.050986</td>\n",
       "      <td>-0.043879</td>\n",
       "      <td>...</td>\n",
       "      <td>0.011443</td>\n",
       "      <td>-0.011533</td>\n",
       "      <td>0.000619</td>\n",
       "      <td>-0.003764</td>\n",
       "      <td>-0.005998</td>\n",
       "      <td>1</td>\n",
       "      <td>0</td>\n",
       "      <td>0</td>\n",
       "      <td>1</td>\n",
       "      <td>0</td>\n",
       "    </tr>\n",
       "    <tr>\n",
       "      <th>3</th>\n",
       "      <td>0.555378</td>\n",
       "      <td>-0.743136</td>\n",
       "      <td>-1.250874</td>\n",
       "      <td>-1.528596</td>\n",
       "      <td>-0.692885</td>\n",
       "      <td>0.665076</td>\n",
       "      <td>-0.344138</td>\n",
       "      <td>0.925233</td>\n",
       "      <td>-0.050986</td>\n",
       "      <td>-0.043879</td>\n",
       "      <td>...</td>\n",
       "      <td>0.011443</td>\n",
       "      <td>-0.011533</td>\n",
       "      <td>0.000619</td>\n",
       "      <td>-0.003764</td>\n",
       "      <td>-0.005998</td>\n",
       "      <td>0</td>\n",
       "      <td>0</td>\n",
       "      <td>1</td>\n",
       "      <td>2</td>\n",
       "      <td>0</td>\n",
       "    </tr>\n",
       "    <tr>\n",
       "      <th>4</th>\n",
       "      <td>-1.342595</td>\n",
       "      <td>-0.368194</td>\n",
       "      <td>-1.250874</td>\n",
       "      <td>-0.834619</td>\n",
       "      <td>-1.926088</td>\n",
       "      <td>-0.069338</td>\n",
       "      <td>-0.344138</td>\n",
       "      <td>0.807415</td>\n",
       "      <td>-0.050986</td>\n",
       "      <td>-0.043879</td>\n",
       "      <td>...</td>\n",
       "      <td>0.011443</td>\n",
       "      <td>-0.011533</td>\n",
       "      <td>0.000619</td>\n",
       "      <td>-0.003764</td>\n",
       "      <td>-0.005998</td>\n",
       "      <td>0</td>\n",
       "      <td>0</td>\n",
       "      <td>1</td>\n",
       "      <td>2</td>\n",
       "      <td>0</td>\n",
       "    </tr>\n",
       "  </tbody>\n",
       "</table>\n",
       "<p>5 rows × 23 columns</p>\n",
       "</div>"
      ],
      "text/plain": [
       "   interest_rate  unpaid_principal_bal  loan_term  loan_to_value  \\\n",
       "0       0.013100              1.820417   0.754428       0.437672   \n",
       "1       1.368795             -0.830331   0.754428       0.726829   \n",
       "2       1.368795             -1.187834   0.754428       0.437672   \n",
       "3       0.555378             -0.743136  -1.250874      -1.528596   \n",
       "4      -1.342595             -0.368194  -1.250874      -0.834619   \n",
       "\n",
       "   debt_to_income_ratio  borrower_credit_score  insurance_percent  \\\n",
       "0             -1.103953               0.475550          -0.344138   \n",
       "1              0.232018               0.546622          -0.344138   \n",
       "2              0.334785              -1.419712          -0.344138   \n",
       "3             -0.692885               0.665076          -0.344138   \n",
       "4             -1.926088              -0.069338          -0.344138   \n",
       "\n",
       "   co-borrower_credit_score        m1        m2  ...        m6        m7  \\\n",
       "0                 -1.203344 -0.050986 -0.043879  ...  0.011443 -0.011533   \n",
       "1                  0.849306 -0.050986 -0.043879  ...  0.011443 -0.011533   \n",
       "2                 -1.203344 -0.050986 -0.043879  ...  0.011443 -0.011533   \n",
       "3                  0.925233 -0.050986 -0.043879  ...  0.011443 -0.011533   \n",
       "4                  0.807415 -0.050986 -0.043879  ...  0.011443 -0.011533   \n",
       "\n",
       "         m8        m9       m10  loan_purpose_C86  loan_purpose_B12  \\\n",
       "0  0.000619 -0.003764 -0.005998                 0                 0   \n",
       "1  0.000619 -0.003764 -0.005998                 1                 0   \n",
       "2  0.000619 -0.003764 -0.005998                 1                 0   \n",
       "3  0.000619 -0.003764 -0.005998                 0                 0   \n",
       "4  0.000619 -0.003764 -0.005998                 0                 0   \n",
       "\n",
       "   loan_purpose_A23  number_of_borrowers  insurance_type  \n",
       "0                 1                    1               0  \n",
       "1                 0                    2               0  \n",
       "2                 0                    1               0  \n",
       "3                 1                    2               0  \n",
       "4                 1                    2               0  \n",
       "\n",
       "[5 rows x 23 columns]"
      ]
     },
     "execution_count": 26,
     "metadata": {},
     "output_type": "execute_result"
    }
   ],
   "source": [
    "test_cols_list = list(cleaned_test.columns)\n",
    "\n",
    "cleaned_test = std_scaler.transform(cleaned_test)\n",
    "\n",
    "cleaned_test = pd.DataFrame(cleaned_test, columns=test_cols_list)\n",
    "\n",
    "cleaned_test = pd.concat([cleaned_test, non_scaled_test], axis=1)\n",
    "cleaned_test.head()"
   ]
  },
  {
   "cell_type": "code",
   "execution_count": 27,
   "metadata": {
    "ExecuteTime": {
     "end_time": "2019-08-22T15:53:18.151234Z",
     "start_time": "2019-08-22T15:53:18.143524Z"
    }
   },
   "outputs": [],
   "source": [
    "X_test = np.asarray(cleaned_test)"
   ]
  },
  {
   "cell_type": "code",
   "execution_count": 28,
   "metadata": {
    "ExecuteTime": {
     "end_time": "2019-08-22T15:53:27.960016Z",
     "start_time": "2019-08-22T15:53:27.887621Z"
    }
   },
   "outputs": [],
   "source": [
    "y_pred_rfc = classifier_rfc.predict(X_test)"
   ]
  },
  {
   "cell_type": "code",
   "execution_count": 29,
   "metadata": {
    "ExecuteTime": {
     "end_time": "2019-08-22T15:53:30.271853Z",
     "start_time": "2019-08-22T15:53:30.014088Z"
    }
   },
   "outputs": [],
   "source": [
    "y_pred_adaboost = classifier_adaboost.predict(X_test)"
   ]
  },
  {
   "cell_type": "code",
   "execution_count": 30,
   "metadata": {
    "ExecuteTime": {
     "end_time": "2019-08-22T15:53:34.925718Z",
     "start_time": "2019-08-22T15:53:32.587732Z"
    }
   },
   "outputs": [],
   "source": [
    "y_pred_rfc_adaboost = classifier_rfc_adaboost.predict(X_test)"
   ]
  },
  {
   "cell_type": "code",
   "execution_count": null,
   "metadata": {},
   "outputs": [],
   "source": []
  },
  {
   "cell_type": "code",
   "execution_count": 32,
   "metadata": {
    "ExecuteTime": {
     "end_time": "2019-08-22T15:55:34.611467Z",
     "start_time": "2019-08-22T15:55:34.592528Z"
    }
   },
   "outputs": [],
   "source": [
    "indices = np.array([idx for idx in range(1,len(y_pred_adaboost)+1)])"
   ]
  },
  {
   "cell_type": "code",
   "execution_count": 33,
   "metadata": {
    "ExecuteTime": {
     "end_time": "2019-08-22T15:55:38.452460Z",
     "start_time": "2019-08-22T15:55:38.360116Z"
    }
   },
   "outputs": [
    {
     "data": {
      "text/html": [
       "<div>\n",
       "<style scoped>\n",
       "    .dataframe tbody tr th:only-of-type {\n",
       "        vertical-align: middle;\n",
       "    }\n",
       "\n",
       "    .dataframe tbody tr th {\n",
       "        vertical-align: top;\n",
       "    }\n",
       "\n",
       "    .dataframe thead th {\n",
       "        text-align: right;\n",
       "    }\n",
       "</style>\n",
       "<table border=\"1\" class=\"dataframe\">\n",
       "  <thead>\n",
       "    <tr style=\"text-align: right;\">\n",
       "      <th></th>\n",
       "      <th>m13</th>\n",
       "    </tr>\n",
       "    <tr>\n",
       "      <th>loan_id</th>\n",
       "      <th></th>\n",
       "    </tr>\n",
       "  </thead>\n",
       "  <tbody>\n",
       "    <tr>\n",
       "      <th>1</th>\n",
       "      <td>0</td>\n",
       "    </tr>\n",
       "    <tr>\n",
       "      <th>2</th>\n",
       "      <td>0</td>\n",
       "    </tr>\n",
       "    <tr>\n",
       "      <th>3</th>\n",
       "      <td>0</td>\n",
       "    </tr>\n",
       "    <tr>\n",
       "      <th>4</th>\n",
       "      <td>0</td>\n",
       "    </tr>\n",
       "    <tr>\n",
       "      <th>5</th>\n",
       "      <td>0</td>\n",
       "    </tr>\n",
       "  </tbody>\n",
       "</table>\n",
       "</div>"
      ],
      "text/plain": [
       "         m13\n",
       "loan_id     \n",
       "1          0\n",
       "2          0\n",
       "3          0\n",
       "4          0\n",
       "5          0"
      ]
     },
     "execution_count": 33,
     "metadata": {},
     "output_type": "execute_result"
    }
   ],
   "source": [
    "submission_data = pd.DataFrame({'loan_id': indices, 'm13': y_pred_rfc}).set_index('loan_id')\n",
    "submission_data.to_csv('pca_std_scaler_rfc_submission.csv')\n",
    "submission_data.head()"
   ]
  },
  {
   "cell_type": "code",
   "execution_count": 34,
   "metadata": {
    "ExecuteTime": {
     "end_time": "2019-08-22T15:55:41.732495Z",
     "start_time": "2019-08-22T15:55:41.638230Z"
    }
   },
   "outputs": [
    {
     "data": {
      "text/html": [
       "<div>\n",
       "<style scoped>\n",
       "    .dataframe tbody tr th:only-of-type {\n",
       "        vertical-align: middle;\n",
       "    }\n",
       "\n",
       "    .dataframe tbody tr th {\n",
       "        vertical-align: top;\n",
       "    }\n",
       "\n",
       "    .dataframe thead th {\n",
       "        text-align: right;\n",
       "    }\n",
       "</style>\n",
       "<table border=\"1\" class=\"dataframe\">\n",
       "  <thead>\n",
       "    <tr style=\"text-align: right;\">\n",
       "      <th></th>\n",
       "      <th>m13</th>\n",
       "    </tr>\n",
       "    <tr>\n",
       "      <th>loan_id</th>\n",
       "      <th></th>\n",
       "    </tr>\n",
       "  </thead>\n",
       "  <tbody>\n",
       "    <tr>\n",
       "      <th>1</th>\n",
       "      <td>0</td>\n",
       "    </tr>\n",
       "    <tr>\n",
       "      <th>2</th>\n",
       "      <td>0</td>\n",
       "    </tr>\n",
       "    <tr>\n",
       "      <th>3</th>\n",
       "      <td>0</td>\n",
       "    </tr>\n",
       "    <tr>\n",
       "      <th>4</th>\n",
       "      <td>0</td>\n",
       "    </tr>\n",
       "    <tr>\n",
       "      <th>5</th>\n",
       "      <td>0</td>\n",
       "    </tr>\n",
       "  </tbody>\n",
       "</table>\n",
       "</div>"
      ],
      "text/plain": [
       "         m13\n",
       "loan_id     \n",
       "1          0\n",
       "2          0\n",
       "3          0\n",
       "4          0\n",
       "5          0"
      ]
     },
     "execution_count": 34,
     "metadata": {},
     "output_type": "execute_result"
    }
   ],
   "source": [
    "submission_data = pd.DataFrame({'loan_id': indices, 'm13': y_pred_adaboost}).set_index('loan_id')\n",
    "submission_data.to_csv('pca_std_scaler_adaboost_submission.csv')\n",
    "submission_data.head()"
   ]
  },
  {
   "cell_type": "code",
   "execution_count": 35,
   "metadata": {
    "ExecuteTime": {
     "end_time": "2019-08-22T15:55:47.753856Z",
     "start_time": "2019-08-22T15:55:47.638759Z"
    }
   },
   "outputs": [
    {
     "data": {
      "text/html": [
       "<div>\n",
       "<style scoped>\n",
       "    .dataframe tbody tr th:only-of-type {\n",
       "        vertical-align: middle;\n",
       "    }\n",
       "\n",
       "    .dataframe tbody tr th {\n",
       "        vertical-align: top;\n",
       "    }\n",
       "\n",
       "    .dataframe thead th {\n",
       "        text-align: right;\n",
       "    }\n",
       "</style>\n",
       "<table border=\"1\" class=\"dataframe\">\n",
       "  <thead>\n",
       "    <tr style=\"text-align: right;\">\n",
       "      <th></th>\n",
       "      <th>m13</th>\n",
       "    </tr>\n",
       "    <tr>\n",
       "      <th>loan_id</th>\n",
       "      <th></th>\n",
       "    </tr>\n",
       "  </thead>\n",
       "  <tbody>\n",
       "    <tr>\n",
       "      <th>1</th>\n",
       "      <td>0</td>\n",
       "    </tr>\n",
       "    <tr>\n",
       "      <th>2</th>\n",
       "      <td>0</td>\n",
       "    </tr>\n",
       "    <tr>\n",
       "      <th>3</th>\n",
       "      <td>0</td>\n",
       "    </tr>\n",
       "    <tr>\n",
       "      <th>4</th>\n",
       "      <td>0</td>\n",
       "    </tr>\n",
       "    <tr>\n",
       "      <th>5</th>\n",
       "      <td>0</td>\n",
       "    </tr>\n",
       "  </tbody>\n",
       "</table>\n",
       "</div>"
      ],
      "text/plain": [
       "         m13\n",
       "loan_id     \n",
       "1          0\n",
       "2          0\n",
       "3          0\n",
       "4          0\n",
       "5          0"
      ]
     },
     "execution_count": 35,
     "metadata": {},
     "output_type": "execute_result"
    }
   ],
   "source": [
    "submission_data = pd.DataFrame({'loan_id': indices, 'm13': y_pred_rfc_adaboost}).set_index('loan_id')\n",
    "submission_data.to_csv('pca_std_scaler_rfc_adaboost_submission.csv')\n",
    "submission_data.head()"
   ]
  },
  {
   "cell_type": "code",
   "execution_count": null,
   "metadata": {},
   "outputs": [],
   "source": []
  },
  {
   "cell_type": "code",
   "execution_count": null,
   "metadata": {},
   "outputs": [],
   "source": []
  }
 ],
 "metadata": {
  "kernelspec": {
   "display_name": "Python 3",
   "language": "python",
   "name": "python3"
  },
  "varInspector": {
   "cols": {
    "lenName": 16,
    "lenType": 16,
    "lenVar": 40
   },
   "kernels_config": {
    "python": {
     "delete_cmd_postfix": "",
     "delete_cmd_prefix": "del ",
     "library": "var_list.py",
     "varRefreshCmd": "print(var_dic_list())"
    },
    "r": {
     "delete_cmd_postfix": ") ",
     "delete_cmd_prefix": "rm(",
     "library": "var_list.r",
     "varRefreshCmd": "cat(var_dic_list()) "
    }
   },
   "types_to_exclude": [
    "module",
    "function",
    "builtin_function_or_method",
    "instance",
    "_Feature"
   ],
   "window_display": false
  }
 },
 "nbformat": 4,
 "nbformat_minor": 2
}
